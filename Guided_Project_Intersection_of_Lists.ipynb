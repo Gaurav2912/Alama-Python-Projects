{
  "nbformat": 4,
  "nbformat_minor": 0,
  "metadata": {
    "kernelspec": {
      "display_name": "Python 3",
      "language": "python",
      "name": "python3"
    },
    "language_info": {
      "codemirror_mode": {
        "name": "ipython",
        "version": 3
      },
      "file_extension": ".py",
      "mimetype": "text/x-python",
      "name": "python",
      "nbconvert_exporter": "python",
      "pygments_lexer": "ipython3",
      "version": "3.7.1"
    },
    "colab": {
      "name": "Guided Project - Intersection of Lists.ipynb",
      "provenance": [],
      "collapsed_sections": []
    }
  },
  "cells": [
    {
      "cell_type": "markdown",
      "metadata": {
        "id": "rtBrwN-Aexbo"
      },
      "source": [
        "Given a list of n lists, write a function which returns the intersection of all the n lists. Each list can have any number of elements.\n",
        "\n",
        "Example 1:\n",
        "\n",
        "```\n",
        "input = [[5, 5, 5, 8, 10], \n",
        "      [5, 5, 7, 8], \n",
        "      [5, 5, 8, 9, 11]]\n",
        "```\n",
        "\n",
        "```\n",
        "output = [5, 5, 8]\n",
        "```\n",
        "\n",
        "Example 2:\n",
        "\n",
        "```\n",
        "input = [[5, 6], \n",
        "      [5, 5, 7, 8], \n",
        "      [5, 5, 8, 9]]\n",
        "```\n",
        "\n",
        "\n",
        "```\n",
        "output = [5]\n",
        "```"
      ]
    },
    {
      "cell_type": "code",
      "source": [
        "# find the index of lenght of each inner list element in outer list and select the minimum of it\n",
        "def min_len_index(input_list):\n",
        "  set_index = 0\n",
        "  min_len = len(input_list[0])\n",
        "  for i in range(1,len(input_list)):\n",
        "    if len(input_list[i]) < min_len:\n",
        "       set_index = i\n",
        "\n",
        "  return set_index            # Return index position of smallest list"
      ],
      "metadata": {
        "id": "iKzQecFN2vue"
      },
      "execution_count": null,
      "outputs": []
    },
    {
      "cell_type": "code",
      "source": [
        "# Method first\n",
        "def give_intersection(inp_lst):\n",
        "  index = min_len_index(inp_lst)        # Index position of smallest list\n",
        "  lenght = len(inp_lst)                 # no of list in input list\n",
        "  active = None                         # set a parameter to None\n",
        "  intersection = []                     # desired intersectiopn\n",
        "\n",
        "  for item in inp_lst[index]:           # inp_lst is input list and inp_lst[index] is list with minimum number of element \n",
        "    for i in range(lenght):             # We have to check through each list inside the input list\n",
        "      if i != index:                    # No need to check in smallest list because , it will be there\n",
        "        if item in inp_lst[i]:          # Check through other list\n",
        "          active  = True                \n",
        "          inp_lst[i].remove(item)       # once it found remove it  otherwise \n",
        "        else:\n",
        "          active = False              \n",
        "          break                         # No need to check further , because intersection means it shoud be present in all list\n",
        "    if active:                          # active is True when item is found in all list  \n",
        "      intersection.append(item)         # append it in our intersection list\n",
        "\n",
        "  return intersection                       "
      ],
      "metadata": {
        "id": "Y9o9x3af6rr9"
      },
      "execution_count": null,
      "outputs": []
    },
    {
      "cell_type": "code",
      "source": [
        "# Method 2nd \n",
        "def intersection2(input_list):\n",
        "  index = min_len_index(input_list)       # Index position of smallest list\n",
        "  lenght = len(input_list)                 # no of list in input list\n",
        "  intersection = []                          # desired intersectiopn\n",
        "  element_count = {}                           # this dictionary will show how many times minimum number of times our element is inside all list\n",
        "    \n",
        "  # first set key value pair for smallest element  \n",
        "  for num in set(input_list[index]):  # inp_lst is input list and inp_lst[index] is list with minimum number of element, set is because we dont count same element again and angain \n",
        "    value = input_list[index].count(num)\n",
        "    element_count[num] = value       # num is key , and how many times that num in list is our value\n",
        "\n",
        "  for num in set(input_list[index]):  # inp_lst is input list and inp_lst[index] is list with minimum number of element, set is because we dont count same element again and angain   \n",
        "    for i in range(lenght):               # We have to check through each list inside the input lis          \n",
        "      if i != index:                        # No need to check in smallest list because , it will be there\n",
        "        value =  input_list[i].count(num)            \n",
        "        if value < element_count[num]:          # If our current value is less then previous then only we want to update it\n",
        "          element_count[num] = value           # num is key and how many times that num in list is our value\n",
        "  \n",
        "  for key in element_count:          # itrate through each key  \n",
        "    for i in range(element_count[key]):   # eg, if {5:3, 7:0, 8:1} \n",
        "      intersection.append(key)          # append 5, 3 times  7, 0 times and 8 i times\n",
        "\n",
        "  return intersection"
      ],
      "metadata": {
        "id": "REUv_vJ1miAE"
      },
      "execution_count": null,
      "outputs": []
    },
    {
      "cell_type": "code",
      "source": [
        "give_intersection([[5, 5, 5, 8, 10], [5, 5, 7, 8], [5, 5, 8, 9, 11]])"
      ],
      "metadata": {
        "colab": {
          "base_uri": "https://localhost:8080/"
        },
        "id": "Zqh2UIjDC3Xm",
        "outputId": "d06c50f5-a723-41b3-8eb6-ef62132b5040"
      },
      "execution_count": null,
      "outputs": [
        {
          "output_type": "execute_result",
          "data": {
            "text/plain": [
              "[5, 5, 8]"
            ]
          },
          "metadata": {},
          "execution_count": 9
        }
      ]
    },
    {
      "cell_type": "code",
      "source": [
        "give_intersection([[5, 5, 5, 8, 10], [5, 5, 7, 8], [5, 8, 9, 11, 100, 21]])"
      ],
      "metadata": {
        "colab": {
          "base_uri": "https://localhost:8080/"
        },
        "id": "dgXmMMAMl4Z-",
        "outputId": "337bc0fc-75b8-4354-84ce-1995f7d8a992"
      },
      "execution_count": null,
      "outputs": [
        {
          "output_type": "execute_result",
          "data": {
            "text/plain": [
              "[5, 8]"
            ]
          },
          "metadata": {},
          "execution_count": 10
        }
      ]
    },
    {
      "cell_type": "code",
      "source": [
        "give_intersection([[5, 6], [5, 5, 7, 8], [5, 5, 8, 9]])"
      ],
      "metadata": {
        "colab": {
          "base_uri": "https://localhost:8080/"
        },
        "id": "RbJlJB_1DP_U",
        "outputId": "a6508203-bc16-49ba-a338-51e6f83a8501"
      },
      "execution_count": null,
      "outputs": [
        {
          "output_type": "execute_result",
          "data": {
            "text/plain": [
              "[5]"
            ]
          },
          "metadata": {},
          "execution_count": 11
        }
      ]
    },
    {
      "cell_type": "code",
      "source": [
        "give_intersection([[5,5,5,8,10], [1], [5, 5, 5, 9, 11]])"
      ],
      "metadata": {
        "colab": {
          "base_uri": "https://localhost:8080/"
        },
        "id": "TlXEvyrL4bPd",
        "outputId": "3294996b-e3be-4937-ad1b-f26ac35c154a"
      },
      "execution_count": null,
      "outputs": [
        {
          "output_type": "execute_result",
          "data": {
            "text/plain": [
              "[]"
            ]
          },
          "metadata": {},
          "execution_count": 12
        }
      ]
    }
  ]
}